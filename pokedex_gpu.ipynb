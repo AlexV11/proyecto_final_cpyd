{
  "cells": [
    {
      "cell_type": "code",
      "execution_count": 3,
      "metadata": {
        "id": "KGAvVK8AWWEa"
      },
      "outputs": [],
      "source": [
        "# Python ≥3.5 is required\n",
        "import sys\n",
        "assert sys.version_info >= (3, 5)\n",
        "\n",
        "# Scikit-Learn ≥0.20 is required\n",
        "import sklearn\n",
        "assert sklearn.__version__ >= \"0.20\"\n",
        "\n",
        "# TensorFlow ≥2.0 is required\n",
        "import tensorflow as tf\n",
        "from tensorflow import keras\n",
        "assert tf.__version__ >= \"2.0\"\n",
        "\n",
        "# Common imports\n",
        "import numpy as np\n",
        "import os\n",
        "\n",
        "# to make this notebook's output stable across runs\n",
        "np.random.seed(42)\n",
        "tf.random.set_seed(42)"
      ]
    },
    {
      "cell_type": "code",
      "execution_count": 4,
      "metadata": {
        "id": "eqDoTWpDWWEf"
      },
      "outputs": [],
      "source": [
        "import tensorflow as tf\n",
        "\n",
        "filepath = \"/content/pokedex.txt\"\n",
        "\n",
        "with open(filepath) as f:\n",
        "    pokedex_text = f.read()"
      ]
    },
    {
      "cell_type": "code",
      "execution_count": 5,
      "metadata": {
        "colab": {
          "base_uri": "https://localhost:8080/",
          "height": 35
        },
        "id": "Bo-rASFxWWEg",
        "outputId": "f8279d7b-094a-426f-f992-2430e7c435b2"
      },
      "outputs": [
        {
          "output_type": "execute_result",
          "data": {
            "text/plain": [
              "'\\n !%(),-./0123456789:;<>?abcdefghijklmnopqrstuvwxyz\\xa0°é–—’“”−'"
            ],
            "application/vnd.google.colaboratory.intrinsic+json": {
              "type": "string"
            }
          },
          "metadata": {},
          "execution_count": 5
        }
      ],
      "source": [
        "\"\".join(sorted(set(pokedex_text.lower())))"
      ]
    },
    {
      "cell_type": "code",
      "execution_count": 6,
      "metadata": {
        "id": "lsHSh32qWWEi"
      },
      "outputs": [],
      "source": [
        "tokenizer = tf.keras.preprocessing.text.Tokenizer(char_level=True)\n",
        "tokenizer.fit_on_texts(pokedex_text)"
      ]
    },
    {
      "cell_type": "code",
      "execution_count": 7,
      "metadata": {
        "colab": {
          "base_uri": "https://localhost:8080/"
        },
        "id": "H5lldTGPWWEj",
        "outputId": "695a7196-630d-48b0-d2d7-313dfdd2ea2d"
      },
      "outputs": [
        {
          "output_type": "execute_result",
          "data": {
            "text/plain": [
              "[[18, 4, 9, 5, 3]]"
            ]
          },
          "metadata": {},
          "execution_count": 7
        }
      ],
      "source": [
        "tokenizer.texts_to_sequences([\"First\"])"
      ]
    },
    {
      "cell_type": "code",
      "execution_count": 8,
      "metadata": {
        "colab": {
          "base_uri": "https://localhost:8080/"
        },
        "id": "dvV7tDcgWWEj",
        "outputId": "fc61153a-6355-4187-db6f-998f236dcde9"
      },
      "outputs": [
        {
          "output_type": "execute_result",
          "data": {
            "text/plain": [
              "['f i r s t']"
            ]
          },
          "metadata": {},
          "execution_count": 8
        }
      ],
      "source": [
        "tokenizer.sequences_to_texts([[18, 4, 9, 5, 3]])"
      ]
    },
    {
      "cell_type": "code",
      "execution_count": 9,
      "metadata": {
        "id": "tDvYZ-JSWWEk"
      },
      "outputs": [],
      "source": [
        "max_id = len(tokenizer.word_index) # number of distinct characters\n",
        "dataset_size = tokenizer.document_count # total number of characters"
      ]
    },
    {
      "cell_type": "code",
      "execution_count": 10,
      "metadata": {
        "colab": {
          "base_uri": "https://localhost:8080/"
        },
        "id": "d-HetH3LWWEk",
        "outputId": "80f45a55-4776-43d1-8989-19bdac67d8a9"
      },
      "outputs": [
        {
          "output_type": "stream",
          "name": "stdout",
          "text": [
            "max_id: 60\n",
            "dataset_size: 1442842\n"
          ]
        }
      ],
      "source": [
        "print(\"max_id:\", max_id)\n",
        "print(\"dataset_size:\", dataset_size)"
      ]
    },
    {
      "cell_type": "code",
      "execution_count": 11,
      "metadata": {
        "id": "IPe4PaFzWWEl"
      },
      "outputs": [],
      "source": [
        "import numpy as np\n",
        "\n",
        "[encoded] = np.array(tokenizer.texts_to_sequences([pokedex_text])) - 1"
      ]
    },
    {
      "cell_type": "code",
      "execution_count": 12,
      "metadata": {
        "colab": {
          "base_uri": "https://localhost:8080/"
        },
        "id": "J1AM5lQBWWEl",
        "outputId": "cd9797bf-d30c-45e5-f960-88b624aa7b43"
      },
      "outputs": [
        {
          "output_type": "stream",
          "name": "stdout",
          "text": [
            "['a   s t r a n g e   s e e d   w a s   p l a n t e d   o n   i t s   b a c k   a t   b i r t h .   t h e   p l a n t   s p r o u t s   a n d   g r o w s   w i t h   t h i s   p o k é m o n . \\n i t   c']\n"
          ]
        }
      ],
      "source": [
        "print(tokenizer.sequences_to_texts([encoded[:100] + 1]))"
      ]
    },
    {
      "cell_type": "code",
      "execution_count": 13,
      "metadata": {
        "id": "bXWG8Zj-WWEm"
      },
      "outputs": [],
      "source": [
        "train_size = dataset_size * 90 // 100\n",
        "dataset = tf.data.Dataset.from_tensor_slices(encoded[:train_size])"
      ]
    },
    {
      "cell_type": "code",
      "execution_count": 14,
      "metadata": {
        "id": "ONp9YIxFWWEm"
      },
      "outputs": [],
      "source": [
        "n_steps = 100\n",
        "window_length = n_steps + 1 # target = input shifted 1 character ahead\n",
        "dataset = dataset.window(window_length, shift=1, drop_remainder=True) # shift = 1 for next character instead of next word"
      ]
    },
    {
      "cell_type": "code",
      "execution_count": 15,
      "metadata": {
        "id": "Q6-xOjpnWWEn"
      },
      "outputs": [],
      "source": [
        "dataset = dataset.flat_map(lambda window: window.batch(window_length))"
      ]
    },
    {
      "cell_type": "code",
      "execution_count": 16,
      "metadata": {
        "id": "pH9bay9jWWEn"
      },
      "outputs": [],
      "source": [
        "batch_size = 32\n",
        "dataset = dataset.shuffle(10000).batch(batch_size)\n",
        "dataset = dataset.map(lambda windows: (windows[:, :-1], windows[:, 1:]))"
      ]
    },
    {
      "cell_type": "code",
      "execution_count": 17,
      "metadata": {
        "id": "TsOGIorbWWEo"
      },
      "outputs": [],
      "source": [
        "dataset = dataset.map(\n",
        "    lambda X_batch, Y_batch: (tf.one_hot(X_batch, depth=max_id), Y_batch)\n",
        ")\n",
        "\n",
        "dataset = dataset.prefetch(1)"
      ]
    },
    {
      "cell_type": "code",
      "execution_count": 18,
      "metadata": {
        "colab": {
          "base_uri": "https://localhost:8080/"
        },
        "id": "RJCAl0O_WWEo",
        "outputId": "1f5200ac-8b04-4aec-ea3b-2ead4a2e3fe8"
      },
      "outputs": [
        {
          "output_type": "stream",
          "name": "stdout",
          "text": [
            "Epoch 1/20\n",
            "40577/40577 [==============================] - 647s 16ms/step - loss: 1.3452\n",
            "Epoch 2/20\n",
            "40577/40577 [==============================] - 623s 15ms/step - loss: 1.2608\n",
            "Epoch 3/20\n",
            "40577/40577 [==============================] - 539s 13ms/step - loss: 1.2426\n",
            "Epoch 4/20\n",
            "40577/40577 [==============================] - 531s 13ms/step - loss: 1.2327\n",
            "Epoch 5/20\n",
            "40577/40577 [==============================] - 533s 13ms/step - loss: 1.2260\n",
            "Epoch 6/20\n",
            "40577/40577 [==============================] - 544s 13ms/step - loss: 1.2203\n",
            "Epoch 7/20\n",
            "40577/40577 [==============================] - 541s 13ms/step - loss: 1.2157\n",
            "Epoch 8/20\n",
            "40577/40577 [==============================] - 543s 13ms/step - loss: 1.2118\n",
            "Epoch 9/20\n",
            "40577/40577 [==============================] - 538s 13ms/step - loss: 1.2081\n",
            "Epoch 10/20\n",
            "40577/40577 [==============================] - 541s 13ms/step - loss: 1.2058\n",
            "Epoch 11/20\n",
            "40577/40577 [==============================] - 539s 13ms/step - loss: 1.2031\n",
            "Epoch 12/20\n",
            "40577/40577 [==============================] - 539s 13ms/step - loss: 1.2011\n",
            "Epoch 13/20\n",
            "40577/40577 [==============================] - 533s 13ms/step - loss: 1.2000\n",
            "Epoch 14/20\n",
            "40577/40577 [==============================] - 550s 14ms/step - loss: 1.1976\n",
            "Epoch 15/20\n",
            "40577/40577 [==============================] - 536s 13ms/step - loss: 1.1972\n",
            "Epoch 16/20\n",
            "40577/40577 [==============================] - 525s 13ms/step - loss: 1.1959\n",
            "Epoch 17/20\n",
            "40577/40577 [==============================] - 526s 13ms/step - loss: 1.1944\n",
            "Epoch 18/20\n",
            "40577/40577 [==============================] - 524s 13ms/step - loss: 1.1930\n",
            "Epoch 19/20\n",
            "40577/40577 [==============================] - 539s 13ms/step - loss: 1.1920\n",
            "Epoch 20/20\n",
            "40577/40577 [==============================] - 532s 13ms/step - loss: 1.1914\n"
          ]
        }
      ],
      "source": [
        "import keras as keras\n",
        "\n",
        "model = keras.models.Sequential([\n",
        "    keras.layers.GRU(128, return_sequences=True, input_shape=[None, max_id],\n",
        "                     #dropout=0.2, recurrent_dropout=0.2),\n",
        "                     dropout=0.2),\n",
        "    keras.layers.GRU(128, return_sequences=True,\n",
        "                     #dropout=0.2, recurrent_dropout=0.2),\n",
        "                     dropout=0.2),\n",
        "    keras.layers.TimeDistributed(keras.layers.Dense(max_id,\n",
        "                                                    activation=\"softmax\"))\n",
        "])\n",
        "model.compile(loss=\"sparse_categorical_crossentropy\", optimizer=\"adam\")\n",
        "history = model.fit(dataset, epochs=20)"
      ]
    },
    {
      "cell_type": "code",
      "execution_count": 19,
      "metadata": {
        "colab": {
          "base_uri": "https://localhost:8080/"
        },
        "id": "gCyWcHoZ8U4M",
        "outputId": "45e27c15-f4bc-49e1-eba1-10dc3c8f8387"
      },
      "outputs": [
        {
          "output_type": "execute_result",
          "data": {
            "text/plain": [
              "['pokedex_gpu.pkl']"
            ]
          },
          "metadata": {},
          "execution_count": 19
        }
      ],
      "source": [
        "import joblib\n",
        "\n",
        "joblib.dump(model, \"pokedex_gpu.pkl\")"
      ]
    },
    {
      "cell_type": "code",
      "execution_count": 20,
      "metadata": {
        "id": "anNPnH8rWWEp"
      },
      "outputs": [],
      "source": [
        "def preprocess(texts):\n",
        "    X = np.array(tokenizer.texts_to_sequences(texts)) - 1\n",
        "    return tf.one_hot(X, max_id)"
      ]
    },
    {
      "cell_type": "code",
      "execution_count": 21,
      "metadata": {
        "colab": {
          "base_uri": "https://localhost:8080/"
        },
        "id": "ETGPgH65-Yby",
        "outputId": "a434df07-37d9-4878-eab6-562bcd1a9b51"
      },
      "outputs": [
        {
          "output_type": "stream",
          "name": "stdout",
          "text": [
            "this pokemon was born in a a special move. its body is coated in a selious pokémon. it secures its prey in its back and streams its opponents’ stands.\n",
            "it s in its body in ice from its head in the air to protect t\n"
          ]
        }
      ],
      "source": [
        "text = \"this pokemon\"\n",
        "for _ in range(200):\n",
        "  X_new = preprocess([text])\n",
        "  Y_pred = np.argmax(model(X_new), axis=-1)\n",
        "  text = text + tokenizer.sequences_to_texts(Y_pred + 1)[0][-1]\n",
        "\n",
        "print(text)"
      ]
    }
  ],
  "metadata": {
    "accelerator": "GPU",
    "colab": {
      "provenance": []
    },
    "gpuClass": "standard",
    "kernelspec": {
      "display_name": "Python 3",
      "language": "python",
      "name": "python3"
    },
    "language_info": {
      "codemirror_mode": {
        "name": "ipython",
        "version": 3
      },
      "file_extension": ".py",
      "mimetype": "text/x-python",
      "name": "python",
      "nbconvert_exporter": "python",
      "pygments_lexer": "ipython3",
      "version": "3.11.3"
    }
  },
  "nbformat": 4,
  "nbformat_minor": 0
}